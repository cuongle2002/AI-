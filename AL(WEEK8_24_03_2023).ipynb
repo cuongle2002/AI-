{
  "nbformat": 4,
  "nbformat_minor": 0,
  "metadata": {
    "colab": {
      "provenance": [],
      "authorship_tag": "ABX9TyNdvxcEDpvNiUQA61DRBoAg",
      "include_colab_link": true
    },
    "kernelspec": {
      "name": "python3",
      "display_name": "Python 3"
    },
    "language_info": {
      "name": "python"
    }
  },
  "cells": [
    {
      "cell_type": "markdown",
      "metadata": {
        "id": "view-in-github",
        "colab_type": "text"
      },
      "source": [
        "<a href=\"https://colab.research.google.com/github/cuongle2002/AI-/blob/main/AL(WEEK8_24_03_2023).ipynb\" target=\"_parent\"><img src=\"https://colab.research.google.com/assets/colab-badge.svg\" alt=\"Open In Colab\"/></a>"
      ]
    },
    {
      "cell_type": "code",
      "execution_count": null,
      "metadata": {
        "colab": {
          "base_uri": "https://localhost:8080/"
        },
        "id": "XyQRyu6cokky",
        "outputId": "78b7b1b3-0e97-48c3-d4fb-2b11a62d3278"
      },
      "outputs": [
        {
          "output_type": "execute_result",
          "data": {
            "text/plain": [
              "1.0"
            ]
          },
          "metadata": {},
          "execution_count": 66
        }
      ],
      "source": [
        "from sklearn.linear_model import Perceptron \n",
        "x = [[0,0],[1,0],[0,1],[1,1]]\n",
        "y = [0,1,1,1]\n",
        "model =  Perceptron()\n",
        "model.fit(x,y)\n",
        "model.score(x,y)\n"
      ]
    },
    {
      "cell_type": "code",
      "source": [
        "x1 = [[0.5,0],[0,0.5],[0.6,0],[0,0.5],[-10,2],[0.1,1],[-0.3,4]]\n",
        "y1 = model.predict(x1)\n",
        "print(y1)"
      ],
      "metadata": {
        "colab": {
          "base_uri": "https://localhost:8080/"
        },
        "id": "MiT2wwjyRNrn",
        "outputId": "ce8bbc2c-3b7c-4e60-8541-40f71334da68"
      },
      "execution_count": null,
      "outputs": [
        {
          "output_type": "stream",
          "name": "stdout",
          "text": [
            "[0 0 1 0 0 1 1]\n"
          ]
        }
      ]
    },
    {
      "cell_type": "code",
      "source": [
        "from sklearn.linear_model import Perceptron \n",
        "x = [[-0.5,-0.5], [-0.5,0.5],[0.3,-0.5],[-0.1,1]]\n",
        "y = [1,1,0,0]\n",
        "model =  Perceptron()\n",
        "model.fit(x,y)\n",
        "model.score(x,y)"
      ],
      "metadata": {
        "colab": {
          "base_uri": "https://localhost:8080/"
        },
        "id": "evo-l5H_R1gg",
        "outputId": "370fa974-dc8b-4aa1-a973-b78f21590695"
      },
      "execution_count": null,
      "outputs": [
        {
          "output_type": "execute_result",
          "data": {
            "text/plain": [
              "1.0"
            ]
          },
          "metadata": {},
          "execution_count": 68
        }
      ]
    },
    {
      "cell_type": "code",
      "source": [
        "x1 = [[-0.5,-0.5], [-0.5,0.5],[0.3,-0.5],[-0.1,1]]\n",
        "y1 = model.predict(x1)\n",
        "print(y1)"
      ],
      "metadata": {
        "colab": {
          "base_uri": "https://localhost:8080/"
        },
        "id": "z38U5A21R1pP",
        "outputId": "eaffb9c7-67eb-4eea-d468-f3f7cbd7a268"
      },
      "execution_count": null,
      "outputs": [
        {
          "output_type": "stream",
          "name": "stdout",
          "text": [
            "[1 1 0 0]\n"
          ]
        }
      ]
    },
    {
      "cell_type": "code",
      "source": [
        "#########\n",
        "from sklearn import datasets\n",
        "from sklearn.linear_model import Perceptron\n",
        "from sklearn.model_selection import train_test_split\n",
        "from sklearn.metrics import accuracy_score    # đánh giá sai số \n",
        "from sklearn.preprocessing import StandardScaler # chuẩn hóa dữ liệu really important in AI \n",
        "\n",
        "iris = datasets.load_iris()\n",
        "x = iris.data\n",
        "y = iris.target\n",
        "print(x[:5])\n",
        "print(y[:5])\n",
        "\n",
        "x_train, x_test, y_train, y_test = train_test_split(x,y,test_size = 0.3)"
      ],
      "metadata": {
        "colab": {
          "base_uri": "https://localhost:8080/"
        },
        "id": "fh0gD137TQw4",
        "outputId": "2e7197aa-7c7c-4b17-8261-ea78269b7682"
      },
      "execution_count": null,
      "outputs": [
        {
          "output_type": "stream",
          "name": "stdout",
          "text": [
            "[[5.1 3.5 1.4 0.2]\n",
            " [4.9 3.  1.4 0.2]\n",
            " [4.7 3.2 1.3 0.2]\n",
            " [4.6 3.1 1.5 0.2]\n",
            " [5.  3.6 1.4 0.2]]\n",
            "[0 0 0 0 0]\n"
          ]
        }
      ]
    },
    {
      "cell_type": "code",
      "source": [
        "sc = StandardScaler()   # đã scale\n",
        "sc.fit(x_train)\n",
        "x_train_std = sc.transform(x_train)\n",
        "x_test_std  = sc.transform(x_test)\n",
        "\n",
        "print(x_train[:5], x_train_std[:5])    # đã scale\n"
      ],
      "metadata": {
        "colab": {
          "base_uri": "https://localhost:8080/"
        },
        "id": "wmgWSi5cWIRS",
        "outputId": "d6d5cc5d-9a8b-4056-fd75-9ef0f3cffebc"
      },
      "execution_count": null,
      "outputs": [
        {
          "output_type": "stream",
          "name": "stdout",
          "text": [
            "[[5.8 2.7 5.1 1.9]\n",
            " [5.1 3.5 1.4 0.2]\n",
            " [6.6 2.9 4.6 1.3]\n",
            " [6.3 2.7 4.9 1.8]\n",
            " [5.8 2.6 4.  1.2]] [[ 1.22883695e-03 -7.03510734e-01  8.17714945e-01  9.66159809e-01]\n",
            " [-9.01966324e-01  1.05004718e+00 -1.32589002e+00 -1.30304448e+00]\n",
            " [ 1.03345188e+00 -2.65121256e-01  5.28038598e-01  1.65264178e-01]\n",
            " [ 6.46368237e-01 -7.03510734e-01  7.01844406e-01  8.32677204e-01]\n",
            " [ 1.22883695e-03 -9.22705473e-01  1.80426982e-01  3.17815727e-02]]\n"
          ]
        }
      ]
    },
    {
      "cell_type": "code",
      "source": [
        "\n",
        "model = Perceptron(max_iter = 1000, eta0 = 0.1,random_state = 0 )   #max_iter: số lần học, eta0: tốc độ học, random_state: lấy ngẫu nhiên \n",
        "model.fit(x_train, y_train)\n",
        "y_pred = model.predict(x_test)\n",
        "print(y_pred)\n",
        "print(y_test)\n",
        "print(\"độ chính xác mô hình chưa sờ'ssssss ceo:\",accuracy_score(y_test, y_pred))\n"
      ],
      "metadata": {
        "colab": {
          "base_uri": "https://localhost:8080/"
        },
        "id": "jlBD8HunWIUg",
        "outputId": "803d80f6-1000-479a-da66-27908442fb3b"
      },
      "execution_count": null,
      "outputs": [
        {
          "output_type": "stream",
          "name": "stdout",
          "text": [
            "[2 1 2 1 1 1 0 0 0 1 1 2 2 0 0 1 1 1 0 1 0 1 1 2 1 1 0 2 1 1 1 1 0 1 1 0 1\n",
            " 1 1 0 0 2 0 0 0]\n",
            "[2 2 2 2 2 1 0 0 0 1 2 2 2 0 0 1 1 1 0 2 0 1 2 2 1 2 0 2 1 1 1 2 0 1 1 0 1\n",
            " 1 1 0 0 2 0 0 0]\n",
            "độ chính xác mô hình chưa sờ'ssssss ceo: 0.8222222222222222\n"
          ]
        }
      ]
    },
    {
      "cell_type": "code",
      "source": [
        "model = Perceptron(max_iter = 1000, eta0 = 0.1,random_state = 0)\n",
        "model.fit(x_train_std, y_train)\n",
        "y_pred = model.predict(x_test_std)\n",
        "print(y_pred)\n",
        "print(y_test)\n",
        "print(\"độ chính xác mô hình đã sờ'ssssss ceo:\",accuracy_score(y_test, y_pred))"
      ],
      "metadata": {
        "colab": {
          "base_uri": "https://localhost:8080/"
        },
        "id": "of_cufBGTboo",
        "outputId": "3656cf56-e8ca-4bc2-f467-d65b77b12bc0"
      },
      "execution_count": null,
      "outputs": [
        {
          "output_type": "stream",
          "name": "stdout",
          "text": [
            "[2 2 2 1 2 1 0 0 0 1 2 2 2 0 0 1 0 1 0 2 0 1 2 2 1 2 0 2 1 1 1 1 0 1 1 0 1\n",
            " 1 1 0 0 2 0 0 0]\n",
            "[2 2 2 2 2 1 0 0 0 1 2 2 2 0 0 1 1 1 0 2 0 1 2 2 1 2 0 2 1 1 1 2 0 1 1 0 1\n",
            " 1 1 0 0 2 0 0 0]\n",
            "độ chính xác mô hình đã sờ'ssssss ceo: 0.9333333333333333\n"
          ]
        }
      ]
    },
    {
      "cell_type": "code",
      "source": [],
      "metadata": {
        "id": "iESo0ffta--9"
      },
      "execution_count": null,
      "outputs": []
    },
    {
      "cell_type": "code",
      "source": [],
      "metadata": {
        "id": "vBlOXuFka_Cq"
      },
      "execution_count": null,
      "outputs": []
    },
    {
      "cell_type": "code",
      "source": [],
      "metadata": {
        "id": "WgceDCksTbsP"
      },
      "execution_count": null,
      "outputs": []
    },
    {
      "cell_type": "code",
      "source": [],
      "metadata": {
        "id": "_u2dEE1NTbub"
      },
      "execution_count": null,
      "outputs": []
    },
    {
      "cell_type": "code",
      "source": [],
      "metadata": {
        "id": "iqgT7FnoTbyA"
      },
      "execution_count": null,
      "outputs": []
    },
    {
      "cell_type": "code",
      "source": [],
      "metadata": {
        "id": "elOplodQTb5u"
      },
      "execution_count": null,
      "outputs": []
    },
    {
      "cell_type": "code",
      "source": [],
      "metadata": {
        "id": "Fj541mshTcGn"
      },
      "execution_count": null,
      "outputs": []
    },
    {
      "cell_type": "code",
      "source": [],
      "metadata": {
        "id": "DGZ94eR3TcKG"
      },
      "execution_count": null,
      "outputs": []
    },
    {
      "cell_type": "code",
      "source": [],
      "metadata": {
        "id": "Y6fzOC9BTQz2"
      },
      "execution_count": null,
      "outputs": []
    }
  ]
}